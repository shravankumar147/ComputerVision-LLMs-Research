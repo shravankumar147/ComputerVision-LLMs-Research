{
  "nbformat": 4,
  "nbformat_minor": 0,
  "metadata": {
    "colab": {
      "provenance": [],
      "gpuType": "T4",
      "authorship_tag": "ABX9TyP4U42ZDwgvpsss/c0AfSuW",
      "include_colab_link": true
    },
    "kernelspec": {
      "name": "python3",
      "display_name": "Python 3"
    },
    "language_info": {
      "name": "python"
    },
    "accelerator": "GPU",
    "widgets": {
      "application/vnd.jupyter.widget-state+json": {
        "d546ebe5b04340488fef0bac1544cc6f": {
          "model_module": "@jupyter-widgets/controls",
          "model_name": "HBoxModel",
          "model_module_version": "1.5.0",
          "state": {
            "_dom_classes": [],
            "_model_module": "@jupyter-widgets/controls",
            "_model_module_version": "1.5.0",
            "_model_name": "HBoxModel",
            "_view_count": null,
            "_view_module": "@jupyter-widgets/controls",
            "_view_module_version": "1.5.0",
            "_view_name": "HBoxView",
            "box_style": "",
            "children": [
              "IPY_MODEL_aa3d6917ef724341b589d12dd7c6b86d",
              "IPY_MODEL_8b91e40bb69d4121a4e61fd809c8246e",
              "IPY_MODEL_114266a60cc1411ea3e8e3ba18848a3b"
            ],
            "layout": "IPY_MODEL_8ccb77ee6c354bb29720bd8f2e5674bf"
          }
        },
        "aa3d6917ef724341b589d12dd7c6b86d": {
          "model_module": "@jupyter-widgets/controls",
          "model_name": "HTMLModel",
          "model_module_version": "1.5.0",
          "state": {
            "_dom_classes": [],
            "_model_module": "@jupyter-widgets/controls",
            "_model_module_version": "1.5.0",
            "_model_name": "HTMLModel",
            "_view_count": null,
            "_view_module": "@jupyter-widgets/controls",
            "_view_module_version": "1.5.0",
            "_view_name": "HTMLView",
            "description": "",
            "description_tooltip": null,
            "layout": "IPY_MODEL_458800696c4642139508a816a7962f8e",
            "placeholder": "​",
            "style": "IPY_MODEL_96c59a1621a54e2a8389a0d111376a1a",
            "value": "Loading checkpoint shards: 100%"
          }
        },
        "8b91e40bb69d4121a4e61fd809c8246e": {
          "model_module": "@jupyter-widgets/controls",
          "model_name": "FloatProgressModel",
          "model_module_version": "1.5.0",
          "state": {
            "_dom_classes": [],
            "_model_module": "@jupyter-widgets/controls",
            "_model_module_version": "1.5.0",
            "_model_name": "FloatProgressModel",
            "_view_count": null,
            "_view_module": "@jupyter-widgets/controls",
            "_view_module_version": "1.5.0",
            "_view_name": "ProgressView",
            "bar_style": "success",
            "description": "",
            "description_tooltip": null,
            "layout": "IPY_MODEL_53c5bc0a0c314937accebe203efdf83b",
            "max": 2,
            "min": 0,
            "orientation": "horizontal",
            "style": "IPY_MODEL_cfcdf015599f42a2b27021916ba3d4a8",
            "value": 2
          }
        },
        "114266a60cc1411ea3e8e3ba18848a3b": {
          "model_module": "@jupyter-widgets/controls",
          "model_name": "HTMLModel",
          "model_module_version": "1.5.0",
          "state": {
            "_dom_classes": [],
            "_model_module": "@jupyter-widgets/controls",
            "_model_module_version": "1.5.0",
            "_model_name": "HTMLModel",
            "_view_count": null,
            "_view_module": "@jupyter-widgets/controls",
            "_view_module_version": "1.5.0",
            "_view_name": "HTMLView",
            "description": "",
            "description_tooltip": null,
            "layout": "IPY_MODEL_16493ca907a84de7b71b596ea2267c0b",
            "placeholder": "​",
            "style": "IPY_MODEL_9008e5a93aad4f93b2243451e48b4947",
            "value": " 2/2 [00:06&lt;00:00,  2.92s/it]"
          }
        },
        "8ccb77ee6c354bb29720bd8f2e5674bf": {
          "model_module": "@jupyter-widgets/base",
          "model_name": "LayoutModel",
          "model_module_version": "1.2.0",
          "state": {
            "_model_module": "@jupyter-widgets/base",
            "_model_module_version": "1.2.0",
            "_model_name": "LayoutModel",
            "_view_count": null,
            "_view_module": "@jupyter-widgets/base",
            "_view_module_version": "1.2.0",
            "_view_name": "LayoutView",
            "align_content": null,
            "align_items": null,
            "align_self": null,
            "border": null,
            "bottom": null,
            "display": null,
            "flex": null,
            "flex_flow": null,
            "grid_area": null,
            "grid_auto_columns": null,
            "grid_auto_flow": null,
            "grid_auto_rows": null,
            "grid_column": null,
            "grid_gap": null,
            "grid_row": null,
            "grid_template_areas": null,
            "grid_template_columns": null,
            "grid_template_rows": null,
            "height": null,
            "justify_content": null,
            "justify_items": null,
            "left": null,
            "margin": null,
            "max_height": null,
            "max_width": null,
            "min_height": null,
            "min_width": null,
            "object_fit": null,
            "object_position": null,
            "order": null,
            "overflow": null,
            "overflow_x": null,
            "overflow_y": null,
            "padding": null,
            "right": null,
            "top": null,
            "visibility": null,
            "width": null
          }
        },
        "458800696c4642139508a816a7962f8e": {
          "model_module": "@jupyter-widgets/base",
          "model_name": "LayoutModel",
          "model_module_version": "1.2.0",
          "state": {
            "_model_module": "@jupyter-widgets/base",
            "_model_module_version": "1.2.0",
            "_model_name": "LayoutModel",
            "_view_count": null,
            "_view_module": "@jupyter-widgets/base",
            "_view_module_version": "1.2.0",
            "_view_name": "LayoutView",
            "align_content": null,
            "align_items": null,
            "align_self": null,
            "border": null,
            "bottom": null,
            "display": null,
            "flex": null,
            "flex_flow": null,
            "grid_area": null,
            "grid_auto_columns": null,
            "grid_auto_flow": null,
            "grid_auto_rows": null,
            "grid_column": null,
            "grid_gap": null,
            "grid_row": null,
            "grid_template_areas": null,
            "grid_template_columns": null,
            "grid_template_rows": null,
            "height": null,
            "justify_content": null,
            "justify_items": null,
            "left": null,
            "margin": null,
            "max_height": null,
            "max_width": null,
            "min_height": null,
            "min_width": null,
            "object_fit": null,
            "object_position": null,
            "order": null,
            "overflow": null,
            "overflow_x": null,
            "overflow_y": null,
            "padding": null,
            "right": null,
            "top": null,
            "visibility": null,
            "width": null
          }
        },
        "96c59a1621a54e2a8389a0d111376a1a": {
          "model_module": "@jupyter-widgets/controls",
          "model_name": "DescriptionStyleModel",
          "model_module_version": "1.5.0",
          "state": {
            "_model_module": "@jupyter-widgets/controls",
            "_model_module_version": "1.5.0",
            "_model_name": "DescriptionStyleModel",
            "_view_count": null,
            "_view_module": "@jupyter-widgets/base",
            "_view_module_version": "1.2.0",
            "_view_name": "StyleView",
            "description_width": ""
          }
        },
        "53c5bc0a0c314937accebe203efdf83b": {
          "model_module": "@jupyter-widgets/base",
          "model_name": "LayoutModel",
          "model_module_version": "1.2.0",
          "state": {
            "_model_module": "@jupyter-widgets/base",
            "_model_module_version": "1.2.0",
            "_model_name": "LayoutModel",
            "_view_count": null,
            "_view_module": "@jupyter-widgets/base",
            "_view_module_version": "1.2.0",
            "_view_name": "LayoutView",
            "align_content": null,
            "align_items": null,
            "align_self": null,
            "border": null,
            "bottom": null,
            "display": null,
            "flex": null,
            "flex_flow": null,
            "grid_area": null,
            "grid_auto_columns": null,
            "grid_auto_flow": null,
            "grid_auto_rows": null,
            "grid_column": null,
            "grid_gap": null,
            "grid_row": null,
            "grid_template_areas": null,
            "grid_template_columns": null,
            "grid_template_rows": null,
            "height": null,
            "justify_content": null,
            "justify_items": null,
            "left": null,
            "margin": null,
            "max_height": null,
            "max_width": null,
            "min_height": null,
            "min_width": null,
            "object_fit": null,
            "object_position": null,
            "order": null,
            "overflow": null,
            "overflow_x": null,
            "overflow_y": null,
            "padding": null,
            "right": null,
            "top": null,
            "visibility": null,
            "width": null
          }
        },
        "cfcdf015599f42a2b27021916ba3d4a8": {
          "model_module": "@jupyter-widgets/controls",
          "model_name": "ProgressStyleModel",
          "model_module_version": "1.5.0",
          "state": {
            "_model_module": "@jupyter-widgets/controls",
            "_model_module_version": "1.5.0",
            "_model_name": "ProgressStyleModel",
            "_view_count": null,
            "_view_module": "@jupyter-widgets/base",
            "_view_module_version": "1.2.0",
            "_view_name": "StyleView",
            "bar_color": null,
            "description_width": ""
          }
        },
        "16493ca907a84de7b71b596ea2267c0b": {
          "model_module": "@jupyter-widgets/base",
          "model_name": "LayoutModel",
          "model_module_version": "1.2.0",
          "state": {
            "_model_module": "@jupyter-widgets/base",
            "_model_module_version": "1.2.0",
            "_model_name": "LayoutModel",
            "_view_count": null,
            "_view_module": "@jupyter-widgets/base",
            "_view_module_version": "1.2.0",
            "_view_name": "LayoutView",
            "align_content": null,
            "align_items": null,
            "align_self": null,
            "border": null,
            "bottom": null,
            "display": null,
            "flex": null,
            "flex_flow": null,
            "grid_area": null,
            "grid_auto_columns": null,
            "grid_auto_flow": null,
            "grid_auto_rows": null,
            "grid_column": null,
            "grid_gap": null,
            "grid_row": null,
            "grid_template_areas": null,
            "grid_template_columns": null,
            "grid_template_rows": null,
            "height": null,
            "justify_content": null,
            "justify_items": null,
            "left": null,
            "margin": null,
            "max_height": null,
            "max_width": null,
            "min_height": null,
            "min_width": null,
            "object_fit": null,
            "object_position": null,
            "order": null,
            "overflow": null,
            "overflow_x": null,
            "overflow_y": null,
            "padding": null,
            "right": null,
            "top": null,
            "visibility": null,
            "width": null
          }
        },
        "9008e5a93aad4f93b2243451e48b4947": {
          "model_module": "@jupyter-widgets/controls",
          "model_name": "DescriptionStyleModel",
          "model_module_version": "1.5.0",
          "state": {
            "_model_module": "@jupyter-widgets/controls",
            "_model_module_version": "1.5.0",
            "_model_name": "DescriptionStyleModel",
            "_view_count": null,
            "_view_module": "@jupyter-widgets/base",
            "_view_module_version": "1.2.0",
            "_view_name": "StyleView",
            "description_width": ""
          }
        }
      }
    }
  },
  "cells": [
    {
      "cell_type": "markdown",
      "metadata": {
        "id": "view-in-github",
        "colab_type": "text"
      },
      "source": [
        "<a href=\"https://colab.research.google.com/github/shravankumar147/ComputerVision-LLMs-Research/blob/master/hf/vlms/Qwen2_VL_2B_Instruct.ipynb\" target=\"_parent\"><img src=\"https://colab.research.google.com/assets/colab-badge.svg\" alt=\"Open In Colab\"/></a>"
      ]
    },
    {
      "cell_type": "code",
      "execution_count": 1,
      "metadata": {
        "id": "vlfxfRugPNYI"
      },
      "outputs": [],
      "source": [
        "# Ref: https://huggingface.co/Qwen/Qwen2-VL-2B-Instruct"
      ]
    },
    {
      "cell_type": "markdown",
      "source": [
        "# Observations:\n",
        "--------------\n",
        "\n",
        "##  1. On T4 GPU\n",
        "\n",
        "When tried the Qwen2.5 model,\n",
        "\n",
        "```\n",
        "\n",
        "# We recommend enabling flash_attention_2 for better acceleration and memory saving, especially in multi-image and video scenarios.\n",
        "model = Qwen2VLForConditionalGeneration.from_pretrained(\n",
        "    \"Qwen/Qwen2-VL-2B-Instruct\",\n",
        "    torch_dtype=torch.bfloat16,\n",
        "    attn_implementation=\"flash_attention_2\",\n",
        "    device_map=\"auto\",\n",
        ")\n",
        "```\n",
        "\n",
        "        Got RuntimeError: FlashAttention only supports Ampere GPUs or newer.\n",
        "    \n",
        "    \n",
        "So let's not use Flash Attention\n",
        "\n",
        "## 2. OutOfMemoryError: CUDA out of memory.\n",
        "\n",
        "```\n",
        "OutOfMemoryError: CUDA out of memory. Tried to allocate 12.20 GiB. GPU 0 has a total capacity of 14.75 GiB of which 8.83 GiB is free. Process 145597 has 5.92 GiB memory in use. Of the allocated memory 5.38 GiB is allocated by PyTorch, and 420.33 MiB is reserved by PyTorch but unallocated.\n",
        "```\n",
        "\n",
        "T4 GPU - 15GB inline with\n",
        "\n",
        "        GPU 0 has a total capacity of 14.75 GiB\n",
        "\n",
        "This is verified on Model loading, both on Resources (attached screenshot, aswells as memory summary)\n",
        "        \n",
        "        Process 145597 has 5.92 GiB memory in use\n",
        "\n",
        "14.75 - 5.92 = 8.83.\n",
        "\n",
        "        8.83 GiB is free\n",
        "\n",
        "is also validated.\n",
        "\n",
        "It seems we need more 12-13 GiB memory.\n",
        "        \n",
        "        Tried to allocate 12.20 GiB\n",
        "\n",
        "\n",
        "        12.20 - 8.83 = 3.37\n",
        "\n",
        "        more memory is needed."
      ],
      "metadata": {
        "id": "olDUnn2SY84N"
      }
    },
    {
      "cell_type": "code",
      "source": [
        "!pip install -q git+https://github.com/huggingface/transformers qwen-vl-utils  quanto accelerate\n",
        "# flash-attn"
      ],
      "metadata": {
        "colab": {
          "base_uri": "https://localhost:8080/"
        },
        "id": "rL0KAJUKP1WT",
        "outputId": "86abbe90-f2ca-4236-da2d-819fb3ff66b3"
      },
      "execution_count": 1,
      "outputs": [
        {
          "output_type": "stream",
          "name": "stdout",
          "text": [
            "  Installing build dependencies ... \u001b[?25l\u001b[?25hdone\n",
            "  Getting requirements to build wheel ... \u001b[?25l\u001b[?25hdone\n",
            "  Preparing metadata (pyproject.toml) ... \u001b[?25l\u001b[?25hdone\n"
          ]
        }
      ]
    },
    {
      "cell_type": "code",
      "source": [
        "import torch\n",
        "torch.cuda.empty_cache()\n",
        "gpu_summary = torch.cuda.memory_summary(device=0)  # To verify free memory"
      ],
      "metadata": {
        "colab": {
          "base_uri": "https://localhost:8080/",
          "height": 311
        },
        "id": "qQeBe7fEQzKv",
        "outputId": "a8fda07c-ac6d-44cd-cae7-eb99e6374be1"
      },
      "execution_count": 3,
      "outputs": [
        {
          "output_type": "error",
          "ename": "KeyError",
          "evalue": "'allocated_bytes.all.current'",
          "traceback": [
            "\u001b[0;31m---------------------------------------------------------------------------\u001b[0m",
            "\u001b[0;31mKeyError\u001b[0m                                  Traceback (most recent call last)",
            "\u001b[0;32m<ipython-input-3-14b43d60515e>\u001b[0m in \u001b[0;36m<cell line: 3>\u001b[0;34m()\u001b[0m\n\u001b[1;32m      1\u001b[0m \u001b[0;32mimport\u001b[0m \u001b[0mtorch\u001b[0m\u001b[0;34m\u001b[0m\u001b[0;34m\u001b[0m\u001b[0m\n\u001b[1;32m      2\u001b[0m \u001b[0mtorch\u001b[0m\u001b[0;34m.\u001b[0m\u001b[0mcuda\u001b[0m\u001b[0;34m.\u001b[0m\u001b[0mempty_cache\u001b[0m\u001b[0;34m(\u001b[0m\u001b[0;34m)\u001b[0m\u001b[0;34m\u001b[0m\u001b[0;34m\u001b[0m\u001b[0m\n\u001b[0;32m----> 3\u001b[0;31m \u001b[0mgpu_summary\u001b[0m \u001b[0;34m=\u001b[0m \u001b[0mtorch\u001b[0m\u001b[0;34m.\u001b[0m\u001b[0mcuda\u001b[0m\u001b[0;34m.\u001b[0m\u001b[0mmemory_summary\u001b[0m\u001b[0;34m(\u001b[0m\u001b[0mdevice\u001b[0m\u001b[0;34m=\u001b[0m\u001b[0;36m0\u001b[0m\u001b[0;34m)\u001b[0m  \u001b[0;31m# To verify free memory\u001b[0m\u001b[0;34m\u001b[0m\u001b[0;34m\u001b[0m\u001b[0m\n\u001b[0m",
            "\u001b[0;32m/usr/local/lib/python3.10/dist-packages/torch/cuda/memory.py\u001b[0m in \u001b[0;36mmemory_summary\u001b[0;34m(device, abbreviated)\u001b[0m\n\u001b[1;32m    585\u001b[0m             \u001b[0mprefix\u001b[0m \u001b[0;34m=\u001b[0m \u001b[0mmetric_key\u001b[0m \u001b[0;34m+\u001b[0m \u001b[0;34m\".\"\u001b[0m \u001b[0;34m+\u001b[0m \u001b[0msubmetric_key\u001b[0m \u001b[0;34m+\u001b[0m \u001b[0;34m\".\"\u001b[0m\u001b[0;34m\u001b[0m\u001b[0;34m\u001b[0m\u001b[0m\n\u001b[1;32m    586\u001b[0m \u001b[0;34m\u001b[0m\u001b[0m\n\u001b[0;32m--> 587\u001b[0;31m             \u001b[0mcurrent\u001b[0m \u001b[0;34m=\u001b[0m \u001b[0mstats\u001b[0m\u001b[0;34m[\u001b[0m\u001b[0mprefix\u001b[0m \u001b[0;34m+\u001b[0m \u001b[0;34m\"current\"\u001b[0m\u001b[0;34m]\u001b[0m\u001b[0;34m\u001b[0m\u001b[0;34m\u001b[0m\u001b[0m\n\u001b[0m\u001b[1;32m    588\u001b[0m             \u001b[0mpeak\u001b[0m \u001b[0;34m=\u001b[0m \u001b[0mstats\u001b[0m\u001b[0;34m[\u001b[0m\u001b[0mprefix\u001b[0m \u001b[0;34m+\u001b[0m \u001b[0;34m\"peak\"\u001b[0m\u001b[0;34m]\u001b[0m\u001b[0;34m\u001b[0m\u001b[0;34m\u001b[0m\u001b[0m\n\u001b[1;32m    589\u001b[0m             \u001b[0mallocated\u001b[0m \u001b[0;34m=\u001b[0m \u001b[0mstats\u001b[0m\u001b[0;34m[\u001b[0m\u001b[0mprefix\u001b[0m \u001b[0;34m+\u001b[0m \u001b[0;34m\"allocated\"\u001b[0m\u001b[0;34m]\u001b[0m\u001b[0;34m\u001b[0m\u001b[0;34m\u001b[0m\u001b[0m\n",
            "\u001b[0;31mKeyError\u001b[0m: 'allocated_bytes.all.current'"
          ]
        }
      ]
    },
    {
      "cell_type": "code",
      "source": [
        "print(gpu_summary)"
      ],
      "metadata": {
        "id": "FePxbzi3RsnA"
      },
      "execution_count": null,
      "outputs": []
    },
    {
      "cell_type": "code",
      "source": [
        "from transformers import Qwen2VLForConditionalGeneration, AutoTokenizer, AutoProcessor\n",
        "from qwen_vl_utils import process_vision_info\n"
      ],
      "metadata": {
        "id": "_6zM_Di7QK5O"
      },
      "execution_count": 4,
      "outputs": []
    },
    {
      "cell_type": "code",
      "source": [
        "\n",
        "# default: Load the model on the available device(s)\n",
        "model = Qwen2VLForConditionalGeneration.from_pretrained(\n",
        "    \"Qwen/Qwen2-VL-2B-Instruct\", torch_dtype=\"auto\", device_map=\"auto\"\n",
        ")\n"
      ],
      "metadata": {
        "colab": {
          "base_uri": "https://localhost:8080/",
          "height": 177,
          "referenced_widgets": [
            "d546ebe5b04340488fef0bac1544cc6f",
            "aa3d6917ef724341b589d12dd7c6b86d",
            "8b91e40bb69d4121a4e61fd809c8246e",
            "114266a60cc1411ea3e8e3ba18848a3b",
            "8ccb77ee6c354bb29720bd8f2e5674bf",
            "458800696c4642139508a816a7962f8e",
            "96c59a1621a54e2a8389a0d111376a1a",
            "53c5bc0a0c314937accebe203efdf83b",
            "cfcdf015599f42a2b27021916ba3d4a8",
            "16493ca907a84de7b71b596ea2267c0b",
            "9008e5a93aad4f93b2243451e48b4947"
          ]
        },
        "id": "U0IE8UAyblv7",
        "outputId": "e94d7ab4-48b4-4c51-fb42-1d614bf6299a"
      },
      "execution_count": 5,
      "outputs": [
        {
          "output_type": "stream",
          "name": "stderr",
          "text": [
            "/usr/local/lib/python3.10/dist-packages/huggingface_hub/utils/_auth.py:94: UserWarning: \n",
            "The secret `HF_TOKEN` does not exist in your Colab secrets.\n",
            "To authenticate with the Hugging Face Hub, create a token in your settings tab (https://huggingface.co/settings/tokens), set it as secret in your Google Colab and restart your session.\n",
            "You will be able to reuse this secret in all of your notebooks.\n",
            "Please note that authentication is recommended but still optional to access public models or datasets.\n",
            "  warnings.warn(\n",
            "`Qwen2VLRotaryEmbedding` can now be fully parameterized by passing the model config through the `config` argument. All other arguments will be removed in v4.46\n"
          ]
        },
        {
          "output_type": "display_data",
          "data": {
            "text/plain": [
              "Loading checkpoint shards:   0%|          | 0/2 [00:00<?, ?it/s]"
            ],
            "application/vnd.jupyter.widget-view+json": {
              "version_major": 2,
              "version_minor": 0,
              "model_id": "d546ebe5b04340488fef0bac1544cc6f"
            }
          },
          "metadata": {}
        }
      ]
    },
    {
      "cell_type": "code",
      "source": [
        "\n",
        "# We recommend enabling flash_attention_2 for better acceleration and memory saving, especially in multi-image and video scenarios.\n",
        "# model = Qwen2VLForConditionalGeneration.from_pretrained(\n",
        "#     \"Qwen/Qwen2-VL-2B-Instruct\",\n",
        "#     torch_dtype=torch.bfloat16,\n",
        "#     attn_implementation=\"flash_attention_2\",\n",
        "#     device_map=\"auto\",\n",
        "# )\n",
        "\n",
        "# default processer\n",
        "processor = AutoProcessor.from_pretrained(\"Qwen/Qwen2-VL-2B-Instruct\")\n",
        "\n",
        "# The default range for the number of visual tokens per image in the model is 4-16384. You can set min_pixels and max_pixels according to your needs, such as a token count range of 256-1280, to balance speed and memory usage.\n",
        "# min_pixels = 256*28*28\n",
        "# max_pixels = 1280*28*28\n",
        "# processor = AutoProcessor.from_pretrained(\"Qwen/Qwen2-VL-2B-Instruct\", min_pixels=min_pixels, max_pixels=max_pixels)\n",
        "\n",
        "messages = [\n",
        "    {\n",
        "        \"role\": \"user\",\n",
        "        \"content\": [\n",
        "            {\n",
        "                \"type\": \"image\",\n",
        "                \"image\": \"https://qianwen-res.oss-cn-beijing.aliyuncs.com/Qwen-VL/assets/demo.jpeg\",\n",
        "            },\n",
        "            {\"type\": \"text\", \"text\": \"Describe this image.\"},\n",
        "        ],\n",
        "    }\n",
        "]\n",
        "\n",
        "# Preparation for inference\n",
        "text = processor.apply_chat_template(\n",
        "    messages, tokenize=False, add_generation_prompt=True\n",
        ")\n",
        "image_inputs, video_inputs = process_vision_info(messages)\n",
        "inputs = processor(\n",
        "    text=[text],\n",
        "    images=image_inputs,\n",
        "    videos=video_inputs,\n",
        "    padding=True,\n",
        "    return_tensors=\"pt\",\n",
        ")\n",
        "inputs = inputs.to(\"cuda\")\n",
        "\n",
        "# Inference: Generation of the output\n",
        "generated_ids = model.generate(**inputs, max_new_tokens=128)\n",
        "generated_ids_trimmed = [\n",
        "    out_ids[len(in_ids) :] for in_ids, out_ids in zip(inputs.input_ids, generated_ids)\n",
        "]\n",
        "output_text = processor.batch_decode(\n",
        "    generated_ids_trimmed, skip_special_tokens=True, clean_up_tokenization_spaces=False\n",
        ")\n",
        "print(output_text)\n"
      ],
      "metadata": {
        "colab": {
          "base_uri": "https://localhost:8080/",
          "height": 407
        },
        "id": "v5Kcj1_NbkIr",
        "outputId": "980c6419-83ff-41b8-fb82-9285b751e52f"
      },
      "execution_count": 6,
      "outputs": [
        {
          "output_type": "error",
          "ename": "OutOfMemoryError",
          "evalue": "CUDA out of memory. Tried to allocate 12.20 GiB. GPU 0 has a total capacity of 14.75 GiB of which 8.83 GiB is free. Process 145597 has 5.92 GiB memory in use. Of the allocated memory 5.38 GiB is allocated by PyTorch, and 420.33 MiB is reserved by PyTorch but unallocated. If reserved but unallocated memory is large try setting PYTORCH_CUDA_ALLOC_CONF=expandable_segments:True to avoid fragmentation.  See documentation for Memory Management  (https://pytorch.org/docs/stable/notes/cuda.html#environment-variables)",
          "traceback": [
            "\u001b[0;31m---------------------------------------------------------------------------\u001b[0m",
            "\u001b[0;31mOutOfMemoryError\u001b[0m                          Traceback (most recent call last)",
            "\u001b[0;32m<ipython-input-6-7f8c715de509>\u001b[0m in \u001b[0;36m<cell line: 45>\u001b[0;34m()\u001b[0m\n\u001b[1;32m     43\u001b[0m \u001b[0;34m\u001b[0m\u001b[0m\n\u001b[1;32m     44\u001b[0m \u001b[0;31m# Inference: Generation of the output\u001b[0m\u001b[0;34m\u001b[0m\u001b[0;34m\u001b[0m\u001b[0m\n\u001b[0;32m---> 45\u001b[0;31m \u001b[0mgenerated_ids\u001b[0m \u001b[0;34m=\u001b[0m \u001b[0mmodel\u001b[0m\u001b[0;34m.\u001b[0m\u001b[0mgenerate\u001b[0m\u001b[0;34m(\u001b[0m\u001b[0;34m**\u001b[0m\u001b[0minputs\u001b[0m\u001b[0;34m,\u001b[0m \u001b[0mmax_new_tokens\u001b[0m\u001b[0;34m=\u001b[0m\u001b[0;36m128\u001b[0m\u001b[0;34m)\u001b[0m\u001b[0;34m\u001b[0m\u001b[0;34m\u001b[0m\u001b[0m\n\u001b[0m\u001b[1;32m     46\u001b[0m generated_ids_trimmed = [\n\u001b[1;32m     47\u001b[0m     \u001b[0mout_ids\u001b[0m\u001b[0;34m[\u001b[0m\u001b[0mlen\u001b[0m\u001b[0;34m(\u001b[0m\u001b[0min_ids\u001b[0m\u001b[0;34m)\u001b[0m \u001b[0;34m:\u001b[0m\u001b[0;34m]\u001b[0m \u001b[0;32mfor\u001b[0m \u001b[0min_ids\u001b[0m\u001b[0;34m,\u001b[0m \u001b[0mout_ids\u001b[0m \u001b[0;32min\u001b[0m \u001b[0mzip\u001b[0m\u001b[0;34m(\u001b[0m\u001b[0minputs\u001b[0m\u001b[0;34m.\u001b[0m\u001b[0minput_ids\u001b[0m\u001b[0;34m,\u001b[0m \u001b[0mgenerated_ids\u001b[0m\u001b[0;34m)\u001b[0m\u001b[0;34m\u001b[0m\u001b[0;34m\u001b[0m\u001b[0m\n",
            "\u001b[0;32m/usr/local/lib/python3.10/dist-packages/torch/utils/_contextlib.py\u001b[0m in \u001b[0;36mdecorate_context\u001b[0;34m(*args, **kwargs)\u001b[0m\n\u001b[1;32m    114\u001b[0m     \u001b[0;32mdef\u001b[0m \u001b[0mdecorate_context\u001b[0m\u001b[0;34m(\u001b[0m\u001b[0;34m*\u001b[0m\u001b[0margs\u001b[0m\u001b[0;34m,\u001b[0m \u001b[0;34m**\u001b[0m\u001b[0mkwargs\u001b[0m\u001b[0;34m)\u001b[0m\u001b[0;34m:\u001b[0m\u001b[0;34m\u001b[0m\u001b[0;34m\u001b[0m\u001b[0m\n\u001b[1;32m    115\u001b[0m         \u001b[0;32mwith\u001b[0m \u001b[0mctx_factory\u001b[0m\u001b[0;34m(\u001b[0m\u001b[0;34m)\u001b[0m\u001b[0;34m:\u001b[0m\u001b[0;34m\u001b[0m\u001b[0;34m\u001b[0m\u001b[0m\n\u001b[0;32m--> 116\u001b[0;31m             \u001b[0;32mreturn\u001b[0m \u001b[0mfunc\u001b[0m\u001b[0;34m(\u001b[0m\u001b[0;34m*\u001b[0m\u001b[0margs\u001b[0m\u001b[0;34m,\u001b[0m \u001b[0;34m**\u001b[0m\u001b[0mkwargs\u001b[0m\u001b[0;34m)\u001b[0m\u001b[0;34m\u001b[0m\u001b[0;34m\u001b[0m\u001b[0m\n\u001b[0m\u001b[1;32m    117\u001b[0m \u001b[0;34m\u001b[0m\u001b[0m\n\u001b[1;32m    118\u001b[0m     \u001b[0;32mreturn\u001b[0m \u001b[0mdecorate_context\u001b[0m\u001b[0;34m\u001b[0m\u001b[0;34m\u001b[0m\u001b[0m\n",
            "\u001b[0;32m/usr/local/lib/python3.10/dist-packages/transformers/generation/utils.py\u001b[0m in \u001b[0;36mgenerate\u001b[0;34m(self, inputs, generation_config, logits_processor, stopping_criteria, prefix_allowed_tokens_fn, synced_gpus, assistant_model, streamer, negative_prompt_ids, negative_prompt_attention_mask, **kwargs)\u001b[0m\n\u001b[1;32m   2229\u001b[0m \u001b[0;34m\u001b[0m\u001b[0m\n\u001b[1;32m   2230\u001b[0m             \u001b[0;31m# 12. run sample (it degenerates to greedy search when `generation_config.do_sample=False`)\u001b[0m\u001b[0;34m\u001b[0m\u001b[0;34m\u001b[0m\u001b[0m\n\u001b[0;32m-> 2231\u001b[0;31m             result = self._sample(\n\u001b[0m\u001b[1;32m   2232\u001b[0m                 \u001b[0minput_ids\u001b[0m\u001b[0;34m,\u001b[0m\u001b[0;34m\u001b[0m\u001b[0;34m\u001b[0m\u001b[0m\n\u001b[1;32m   2233\u001b[0m                 \u001b[0mlogits_processor\u001b[0m\u001b[0;34m=\u001b[0m\u001b[0mprepared_logits_processor\u001b[0m\u001b[0;34m,\u001b[0m\u001b[0;34m\u001b[0m\u001b[0;34m\u001b[0m\u001b[0m\n",
            "\u001b[0;32m/usr/local/lib/python3.10/dist-packages/transformers/generation/utils.py\u001b[0m in \u001b[0;36m_sample\u001b[0;34m(self, input_ids, logits_processor, stopping_criteria, generation_config, synced_gpus, streamer, **model_kwargs)\u001b[0m\n\u001b[1;32m   3220\u001b[0m \u001b[0;34m\u001b[0m\u001b[0m\n\u001b[1;32m   3221\u001b[0m             \u001b[0;31m# forward pass to get next token\u001b[0m\u001b[0;34m\u001b[0m\u001b[0;34m\u001b[0m\u001b[0m\n\u001b[0;32m-> 3222\u001b[0;31m             \u001b[0moutputs\u001b[0m \u001b[0;34m=\u001b[0m \u001b[0mself\u001b[0m\u001b[0;34m(\u001b[0m\u001b[0;34m**\u001b[0m\u001b[0mmodel_inputs\u001b[0m\u001b[0;34m,\u001b[0m \u001b[0mreturn_dict\u001b[0m\u001b[0;34m=\u001b[0m\u001b[0;32mTrue\u001b[0m\u001b[0;34m)\u001b[0m\u001b[0;34m\u001b[0m\u001b[0;34m\u001b[0m\u001b[0m\n\u001b[0m\u001b[1;32m   3223\u001b[0m \u001b[0;34m\u001b[0m\u001b[0m\n\u001b[1;32m   3224\u001b[0m             \u001b[0;31m# synced_gpus: don't waste resources running the code we don't need; kwargs must be updated before skipping\u001b[0m\u001b[0;34m\u001b[0m\u001b[0;34m\u001b[0m\u001b[0m\n",
            "\u001b[0;32m/usr/local/lib/python3.10/dist-packages/torch/nn/modules/module.py\u001b[0m in \u001b[0;36m_wrapped_call_impl\u001b[0;34m(self, *args, **kwargs)\u001b[0m\n\u001b[1;32m   1734\u001b[0m             \u001b[0;32mreturn\u001b[0m \u001b[0mself\u001b[0m\u001b[0;34m.\u001b[0m\u001b[0m_compiled_call_impl\u001b[0m\u001b[0;34m(\u001b[0m\u001b[0;34m*\u001b[0m\u001b[0margs\u001b[0m\u001b[0;34m,\u001b[0m \u001b[0;34m**\u001b[0m\u001b[0mkwargs\u001b[0m\u001b[0;34m)\u001b[0m  \u001b[0;31m# type: ignore[misc]\u001b[0m\u001b[0;34m\u001b[0m\u001b[0;34m\u001b[0m\u001b[0m\n\u001b[1;32m   1735\u001b[0m         \u001b[0;32melse\u001b[0m\u001b[0;34m:\u001b[0m\u001b[0;34m\u001b[0m\u001b[0;34m\u001b[0m\u001b[0m\n\u001b[0;32m-> 1736\u001b[0;31m             \u001b[0;32mreturn\u001b[0m \u001b[0mself\u001b[0m\u001b[0;34m.\u001b[0m\u001b[0m_call_impl\u001b[0m\u001b[0;34m(\u001b[0m\u001b[0;34m*\u001b[0m\u001b[0margs\u001b[0m\u001b[0;34m,\u001b[0m \u001b[0;34m**\u001b[0m\u001b[0mkwargs\u001b[0m\u001b[0;34m)\u001b[0m\u001b[0;34m\u001b[0m\u001b[0;34m\u001b[0m\u001b[0m\n\u001b[0m\u001b[1;32m   1737\u001b[0m \u001b[0;34m\u001b[0m\u001b[0m\n\u001b[1;32m   1738\u001b[0m     \u001b[0;31m# torchrec tests the code consistency with the following code\u001b[0m\u001b[0;34m\u001b[0m\u001b[0;34m\u001b[0m\u001b[0m\n",
            "\u001b[0;32m/usr/local/lib/python3.10/dist-packages/torch/nn/modules/module.py\u001b[0m in \u001b[0;36m_call_impl\u001b[0;34m(self, *args, **kwargs)\u001b[0m\n\u001b[1;32m   1745\u001b[0m                 \u001b[0;32mor\u001b[0m \u001b[0m_global_backward_pre_hooks\u001b[0m \u001b[0;32mor\u001b[0m \u001b[0m_global_backward_hooks\u001b[0m\u001b[0;34m\u001b[0m\u001b[0;34m\u001b[0m\u001b[0m\n\u001b[1;32m   1746\u001b[0m                 or _global_forward_hooks or _global_forward_pre_hooks):\n\u001b[0;32m-> 1747\u001b[0;31m             \u001b[0;32mreturn\u001b[0m \u001b[0mforward_call\u001b[0m\u001b[0;34m(\u001b[0m\u001b[0;34m*\u001b[0m\u001b[0margs\u001b[0m\u001b[0;34m,\u001b[0m \u001b[0;34m**\u001b[0m\u001b[0mkwargs\u001b[0m\u001b[0;34m)\u001b[0m\u001b[0;34m\u001b[0m\u001b[0;34m\u001b[0m\u001b[0m\n\u001b[0m\u001b[1;32m   1748\u001b[0m \u001b[0;34m\u001b[0m\u001b[0m\n\u001b[1;32m   1749\u001b[0m         \u001b[0mresult\u001b[0m \u001b[0;34m=\u001b[0m \u001b[0;32mNone\u001b[0m\u001b[0;34m\u001b[0m\u001b[0;34m\u001b[0m\u001b[0m\n",
            "\u001b[0;32m/usr/local/lib/python3.10/dist-packages/transformers/models/qwen2_vl/modeling_qwen2_vl.py\u001b[0m in \u001b[0;36mforward\u001b[0;34m(self, input_ids, attention_mask, position_ids, past_key_values, inputs_embeds, labels, use_cache, output_attentions, output_hidden_states, return_dict, pixel_values, pixel_values_videos, image_grid_thw, video_grid_thw, rope_deltas)\u001b[0m\n\u001b[1;32m   1684\u001b[0m             \u001b[0;32mif\u001b[0m \u001b[0mpixel_values\u001b[0m \u001b[0;32mis\u001b[0m \u001b[0;32mnot\u001b[0m \u001b[0;32mNone\u001b[0m\u001b[0;34m:\u001b[0m\u001b[0;34m\u001b[0m\u001b[0;34m\u001b[0m\u001b[0m\n\u001b[1;32m   1685\u001b[0m                 \u001b[0mpixel_values\u001b[0m \u001b[0;34m=\u001b[0m \u001b[0mpixel_values\u001b[0m\u001b[0;34m.\u001b[0m\u001b[0mtype\u001b[0m\u001b[0;34m(\u001b[0m\u001b[0mself\u001b[0m\u001b[0;34m.\u001b[0m\u001b[0mvisual\u001b[0m\u001b[0;34m.\u001b[0m\u001b[0mget_dtype\u001b[0m\u001b[0;34m(\u001b[0m\u001b[0;34m)\u001b[0m\u001b[0;34m)\u001b[0m\u001b[0;34m\u001b[0m\u001b[0;34m\u001b[0m\u001b[0m\n\u001b[0;32m-> 1686\u001b[0;31m                 \u001b[0mimage_embeds\u001b[0m \u001b[0;34m=\u001b[0m \u001b[0mself\u001b[0m\u001b[0;34m.\u001b[0m\u001b[0mvisual\u001b[0m\u001b[0;34m(\u001b[0m\u001b[0mpixel_values\u001b[0m\u001b[0;34m,\u001b[0m \u001b[0mgrid_thw\u001b[0m\u001b[0;34m=\u001b[0m\u001b[0mimage_grid_thw\u001b[0m\u001b[0;34m)\u001b[0m\u001b[0;34m\u001b[0m\u001b[0;34m\u001b[0m\u001b[0m\n\u001b[0m\u001b[1;32m   1687\u001b[0m                 \u001b[0mn_image_tokens\u001b[0m \u001b[0;34m=\u001b[0m \u001b[0;34m(\u001b[0m\u001b[0minput_ids\u001b[0m \u001b[0;34m==\u001b[0m \u001b[0mself\u001b[0m\u001b[0;34m.\u001b[0m\u001b[0mconfig\u001b[0m\u001b[0;34m.\u001b[0m\u001b[0mimage_token_id\u001b[0m\u001b[0;34m)\u001b[0m\u001b[0;34m.\u001b[0m\u001b[0msum\u001b[0m\u001b[0;34m(\u001b[0m\u001b[0;34m)\u001b[0m\u001b[0;34m.\u001b[0m\u001b[0mitem\u001b[0m\u001b[0;34m(\u001b[0m\u001b[0;34m)\u001b[0m\u001b[0;34m\u001b[0m\u001b[0;34m\u001b[0m\u001b[0m\n\u001b[1;32m   1688\u001b[0m                 \u001b[0mn_image_features\u001b[0m \u001b[0;34m=\u001b[0m \u001b[0mimage_embeds\u001b[0m\u001b[0;34m.\u001b[0m\u001b[0mshape\u001b[0m\u001b[0;34m[\u001b[0m\u001b[0;36m0\u001b[0m\u001b[0;34m]\u001b[0m\u001b[0;34m\u001b[0m\u001b[0;34m\u001b[0m\u001b[0m\n",
            "\u001b[0;32m/usr/local/lib/python3.10/dist-packages/torch/nn/modules/module.py\u001b[0m in \u001b[0;36m_wrapped_call_impl\u001b[0;34m(self, *args, **kwargs)\u001b[0m\n\u001b[1;32m   1734\u001b[0m             \u001b[0;32mreturn\u001b[0m \u001b[0mself\u001b[0m\u001b[0;34m.\u001b[0m\u001b[0m_compiled_call_impl\u001b[0m\u001b[0;34m(\u001b[0m\u001b[0;34m*\u001b[0m\u001b[0margs\u001b[0m\u001b[0;34m,\u001b[0m \u001b[0;34m**\u001b[0m\u001b[0mkwargs\u001b[0m\u001b[0;34m)\u001b[0m  \u001b[0;31m# type: ignore[misc]\u001b[0m\u001b[0;34m\u001b[0m\u001b[0;34m\u001b[0m\u001b[0m\n\u001b[1;32m   1735\u001b[0m         \u001b[0;32melse\u001b[0m\u001b[0;34m:\u001b[0m\u001b[0;34m\u001b[0m\u001b[0;34m\u001b[0m\u001b[0m\n\u001b[0;32m-> 1736\u001b[0;31m             \u001b[0;32mreturn\u001b[0m \u001b[0mself\u001b[0m\u001b[0;34m.\u001b[0m\u001b[0m_call_impl\u001b[0m\u001b[0;34m(\u001b[0m\u001b[0;34m*\u001b[0m\u001b[0margs\u001b[0m\u001b[0;34m,\u001b[0m \u001b[0;34m**\u001b[0m\u001b[0mkwargs\u001b[0m\u001b[0;34m)\u001b[0m\u001b[0;34m\u001b[0m\u001b[0;34m\u001b[0m\u001b[0m\n\u001b[0m\u001b[1;32m   1737\u001b[0m \u001b[0;34m\u001b[0m\u001b[0m\n\u001b[1;32m   1738\u001b[0m     \u001b[0;31m# torchrec tests the code consistency with the following code\u001b[0m\u001b[0;34m\u001b[0m\u001b[0;34m\u001b[0m\u001b[0m\n",
            "\u001b[0;32m/usr/local/lib/python3.10/dist-packages/torch/nn/modules/module.py\u001b[0m in \u001b[0;36m_call_impl\u001b[0;34m(self, *args, **kwargs)\u001b[0m\n\u001b[1;32m   1745\u001b[0m                 \u001b[0;32mor\u001b[0m \u001b[0m_global_backward_pre_hooks\u001b[0m \u001b[0;32mor\u001b[0m \u001b[0m_global_backward_hooks\u001b[0m\u001b[0;34m\u001b[0m\u001b[0;34m\u001b[0m\u001b[0m\n\u001b[1;32m   1746\u001b[0m                 or _global_forward_hooks or _global_forward_pre_hooks):\n\u001b[0;32m-> 1747\u001b[0;31m             \u001b[0;32mreturn\u001b[0m \u001b[0mforward_call\u001b[0m\u001b[0;34m(\u001b[0m\u001b[0;34m*\u001b[0m\u001b[0margs\u001b[0m\u001b[0;34m,\u001b[0m \u001b[0;34m**\u001b[0m\u001b[0mkwargs\u001b[0m\u001b[0;34m)\u001b[0m\u001b[0;34m\u001b[0m\u001b[0;34m\u001b[0m\u001b[0m\n\u001b[0m\u001b[1;32m   1748\u001b[0m \u001b[0;34m\u001b[0m\u001b[0m\n\u001b[1;32m   1749\u001b[0m         \u001b[0mresult\u001b[0m \u001b[0;34m=\u001b[0m \u001b[0;32mNone\u001b[0m\u001b[0;34m\u001b[0m\u001b[0;34m\u001b[0m\u001b[0m\n",
            "\u001b[0;32m/usr/local/lib/python3.10/dist-packages/transformers/models/qwen2_vl/modeling_qwen2_vl.py\u001b[0m in \u001b[0;36mforward\u001b[0;34m(self, hidden_states, grid_thw)\u001b[0m\n\u001b[1;32m   1047\u001b[0m \u001b[0;34m\u001b[0m\u001b[0m\n\u001b[1;32m   1048\u001b[0m         \u001b[0;32mfor\u001b[0m \u001b[0mblk\u001b[0m \u001b[0;32min\u001b[0m \u001b[0mself\u001b[0m\u001b[0;34m.\u001b[0m\u001b[0mblocks\u001b[0m\u001b[0;34m:\u001b[0m\u001b[0;34m\u001b[0m\u001b[0;34m\u001b[0m\u001b[0m\n\u001b[0;32m-> 1049\u001b[0;31m             \u001b[0mhidden_states\u001b[0m \u001b[0;34m=\u001b[0m \u001b[0mblk\u001b[0m\u001b[0;34m(\u001b[0m\u001b[0mhidden_states\u001b[0m\u001b[0;34m,\u001b[0m \u001b[0mcu_seqlens\u001b[0m\u001b[0;34m=\u001b[0m\u001b[0mcu_seqlens\u001b[0m\u001b[0;34m,\u001b[0m \u001b[0mrotary_pos_emb\u001b[0m\u001b[0;34m=\u001b[0m\u001b[0mrotary_pos_emb\u001b[0m\u001b[0;34m)\u001b[0m\u001b[0;34m\u001b[0m\u001b[0;34m\u001b[0m\u001b[0m\n\u001b[0m\u001b[1;32m   1050\u001b[0m \u001b[0;34m\u001b[0m\u001b[0m\n\u001b[1;32m   1051\u001b[0m         \u001b[0;32mreturn\u001b[0m \u001b[0mself\u001b[0m\u001b[0;34m.\u001b[0m\u001b[0mmerger\u001b[0m\u001b[0;34m(\u001b[0m\u001b[0mhidden_states\u001b[0m\u001b[0;34m)\u001b[0m\u001b[0;34m\u001b[0m\u001b[0;34m\u001b[0m\u001b[0m\n",
            "\u001b[0;32m/usr/local/lib/python3.10/dist-packages/torch/nn/modules/module.py\u001b[0m in \u001b[0;36m_wrapped_call_impl\u001b[0;34m(self, *args, **kwargs)\u001b[0m\n\u001b[1;32m   1734\u001b[0m             \u001b[0;32mreturn\u001b[0m \u001b[0mself\u001b[0m\u001b[0;34m.\u001b[0m\u001b[0m_compiled_call_impl\u001b[0m\u001b[0;34m(\u001b[0m\u001b[0;34m*\u001b[0m\u001b[0margs\u001b[0m\u001b[0;34m,\u001b[0m \u001b[0;34m**\u001b[0m\u001b[0mkwargs\u001b[0m\u001b[0;34m)\u001b[0m  \u001b[0;31m# type: ignore[misc]\u001b[0m\u001b[0;34m\u001b[0m\u001b[0;34m\u001b[0m\u001b[0m\n\u001b[1;32m   1735\u001b[0m         \u001b[0;32melse\u001b[0m\u001b[0;34m:\u001b[0m\u001b[0;34m\u001b[0m\u001b[0;34m\u001b[0m\u001b[0m\n\u001b[0;32m-> 1736\u001b[0;31m             \u001b[0;32mreturn\u001b[0m \u001b[0mself\u001b[0m\u001b[0;34m.\u001b[0m\u001b[0m_call_impl\u001b[0m\u001b[0;34m(\u001b[0m\u001b[0;34m*\u001b[0m\u001b[0margs\u001b[0m\u001b[0;34m,\u001b[0m \u001b[0;34m**\u001b[0m\u001b[0mkwargs\u001b[0m\u001b[0;34m)\u001b[0m\u001b[0;34m\u001b[0m\u001b[0;34m\u001b[0m\u001b[0m\n\u001b[0m\u001b[1;32m   1737\u001b[0m \u001b[0;34m\u001b[0m\u001b[0m\n\u001b[1;32m   1738\u001b[0m     \u001b[0;31m# torchrec tests the code consistency with the following code\u001b[0m\u001b[0;34m\u001b[0m\u001b[0;34m\u001b[0m\u001b[0m\n",
            "\u001b[0;32m/usr/local/lib/python3.10/dist-packages/torch/nn/modules/module.py\u001b[0m in \u001b[0;36m_call_impl\u001b[0;34m(self, *args, **kwargs)\u001b[0m\n\u001b[1;32m   1745\u001b[0m                 \u001b[0;32mor\u001b[0m \u001b[0m_global_backward_pre_hooks\u001b[0m \u001b[0;32mor\u001b[0m \u001b[0m_global_backward_hooks\u001b[0m\u001b[0;34m\u001b[0m\u001b[0;34m\u001b[0m\u001b[0m\n\u001b[1;32m   1746\u001b[0m                 or _global_forward_hooks or _global_forward_pre_hooks):\n\u001b[0;32m-> 1747\u001b[0;31m             \u001b[0;32mreturn\u001b[0m \u001b[0mforward_call\u001b[0m\u001b[0;34m(\u001b[0m\u001b[0;34m*\u001b[0m\u001b[0margs\u001b[0m\u001b[0;34m,\u001b[0m \u001b[0;34m**\u001b[0m\u001b[0mkwargs\u001b[0m\u001b[0;34m)\u001b[0m\u001b[0;34m\u001b[0m\u001b[0;34m\u001b[0m\u001b[0m\n\u001b[0m\u001b[1;32m   1748\u001b[0m \u001b[0;34m\u001b[0m\u001b[0m\n\u001b[1;32m   1749\u001b[0m         \u001b[0mresult\u001b[0m \u001b[0;34m=\u001b[0m \u001b[0;32mNone\u001b[0m\u001b[0;34m\u001b[0m\u001b[0;34m\u001b[0m\u001b[0m\n",
            "\u001b[0;32m/usr/local/lib/python3.10/dist-packages/transformers/models/qwen2_vl/modeling_qwen2_vl.py\u001b[0m in \u001b[0;36mforward\u001b[0;34m(self, hidden_states, cu_seqlens, rotary_pos_emb)\u001b[0m\n\u001b[1;32m    429\u001b[0m \u001b[0;34m\u001b[0m\u001b[0m\n\u001b[1;32m    430\u001b[0m     \u001b[0;32mdef\u001b[0m \u001b[0mforward\u001b[0m\u001b[0;34m(\u001b[0m\u001b[0mself\u001b[0m\u001b[0;34m,\u001b[0m \u001b[0mhidden_states\u001b[0m\u001b[0;34m,\u001b[0m \u001b[0mcu_seqlens\u001b[0m\u001b[0;34m,\u001b[0m \u001b[0mrotary_pos_emb\u001b[0m\u001b[0;34m)\u001b[0m \u001b[0;34m->\u001b[0m \u001b[0mtorch\u001b[0m\u001b[0;34m.\u001b[0m\u001b[0mTensor\u001b[0m\u001b[0;34m:\u001b[0m\u001b[0;34m\u001b[0m\u001b[0;34m\u001b[0m\u001b[0m\n\u001b[0;32m--> 431\u001b[0;31m         hidden_states = hidden_states + self.attn(\n\u001b[0m\u001b[1;32m    432\u001b[0m             \u001b[0mself\u001b[0m\u001b[0;34m.\u001b[0m\u001b[0mnorm1\u001b[0m\u001b[0;34m(\u001b[0m\u001b[0mhidden_states\u001b[0m\u001b[0;34m)\u001b[0m\u001b[0;34m,\u001b[0m \u001b[0mcu_seqlens\u001b[0m\u001b[0;34m=\u001b[0m\u001b[0mcu_seqlens\u001b[0m\u001b[0;34m,\u001b[0m \u001b[0mrotary_pos_emb\u001b[0m\u001b[0;34m=\u001b[0m\u001b[0mrotary_pos_emb\u001b[0m\u001b[0;34m\u001b[0m\u001b[0;34m\u001b[0m\u001b[0m\n\u001b[1;32m    433\u001b[0m         )\n",
            "\u001b[0;32m/usr/local/lib/python3.10/dist-packages/torch/nn/modules/module.py\u001b[0m in \u001b[0;36m_wrapped_call_impl\u001b[0;34m(self, *args, **kwargs)\u001b[0m\n\u001b[1;32m   1734\u001b[0m             \u001b[0;32mreturn\u001b[0m \u001b[0mself\u001b[0m\u001b[0;34m.\u001b[0m\u001b[0m_compiled_call_impl\u001b[0m\u001b[0;34m(\u001b[0m\u001b[0;34m*\u001b[0m\u001b[0margs\u001b[0m\u001b[0;34m,\u001b[0m \u001b[0;34m**\u001b[0m\u001b[0mkwargs\u001b[0m\u001b[0;34m)\u001b[0m  \u001b[0;31m# type: ignore[misc]\u001b[0m\u001b[0;34m\u001b[0m\u001b[0;34m\u001b[0m\u001b[0m\n\u001b[1;32m   1735\u001b[0m         \u001b[0;32melse\u001b[0m\u001b[0;34m:\u001b[0m\u001b[0;34m\u001b[0m\u001b[0;34m\u001b[0m\u001b[0m\n\u001b[0;32m-> 1736\u001b[0;31m             \u001b[0;32mreturn\u001b[0m \u001b[0mself\u001b[0m\u001b[0;34m.\u001b[0m\u001b[0m_call_impl\u001b[0m\u001b[0;34m(\u001b[0m\u001b[0;34m*\u001b[0m\u001b[0margs\u001b[0m\u001b[0;34m,\u001b[0m \u001b[0;34m**\u001b[0m\u001b[0mkwargs\u001b[0m\u001b[0;34m)\u001b[0m\u001b[0;34m\u001b[0m\u001b[0;34m\u001b[0m\u001b[0m\n\u001b[0m\u001b[1;32m   1737\u001b[0m \u001b[0;34m\u001b[0m\u001b[0m\n\u001b[1;32m   1738\u001b[0m     \u001b[0;31m# torchrec tests the code consistency with the following code\u001b[0m\u001b[0;34m\u001b[0m\u001b[0;34m\u001b[0m\u001b[0m\n",
            "\u001b[0;32m/usr/local/lib/python3.10/dist-packages/torch/nn/modules/module.py\u001b[0m in \u001b[0;36m_call_impl\u001b[0;34m(self, *args, **kwargs)\u001b[0m\n\u001b[1;32m   1745\u001b[0m                 \u001b[0;32mor\u001b[0m \u001b[0m_global_backward_pre_hooks\u001b[0m \u001b[0;32mor\u001b[0m \u001b[0m_global_backward_hooks\u001b[0m\u001b[0;34m\u001b[0m\u001b[0;34m\u001b[0m\u001b[0m\n\u001b[1;32m   1746\u001b[0m                 or _global_forward_hooks or _global_forward_pre_hooks):\n\u001b[0;32m-> 1747\u001b[0;31m             \u001b[0;32mreturn\u001b[0m \u001b[0mforward_call\u001b[0m\u001b[0;34m(\u001b[0m\u001b[0;34m*\u001b[0m\u001b[0margs\u001b[0m\u001b[0;34m,\u001b[0m \u001b[0;34m**\u001b[0m\u001b[0mkwargs\u001b[0m\u001b[0;34m)\u001b[0m\u001b[0;34m\u001b[0m\u001b[0;34m\u001b[0m\u001b[0m\n\u001b[0m\u001b[1;32m   1748\u001b[0m \u001b[0;34m\u001b[0m\u001b[0m\n\u001b[1;32m   1749\u001b[0m         \u001b[0mresult\u001b[0m \u001b[0;34m=\u001b[0m \u001b[0;32mNone\u001b[0m\u001b[0;34m\u001b[0m\u001b[0;34m\u001b[0m\u001b[0m\n",
            "\u001b[0;32m/usr/local/lib/python3.10/dist-packages/transformers/models/qwen2_vl/modeling_qwen2_vl.py\u001b[0m in \u001b[0;36mforward\u001b[0;34m(self, hidden_states, cu_seqlens, rotary_pos_emb)\u001b[0m\n\u001b[1;32m    402\u001b[0m         \u001b[0mk\u001b[0m \u001b[0;34m=\u001b[0m \u001b[0mk\u001b[0m\u001b[0;34m.\u001b[0m\u001b[0mtranspose\u001b[0m\u001b[0;34m(\u001b[0m\u001b[0;36m0\u001b[0m\u001b[0;34m,\u001b[0m \u001b[0;36m1\u001b[0m\u001b[0;34m)\u001b[0m\u001b[0;34m\u001b[0m\u001b[0;34m\u001b[0m\u001b[0m\n\u001b[1;32m    403\u001b[0m         \u001b[0mv\u001b[0m \u001b[0;34m=\u001b[0m \u001b[0mv\u001b[0m\u001b[0;34m.\u001b[0m\u001b[0mtranspose\u001b[0m\u001b[0;34m(\u001b[0m\u001b[0;36m0\u001b[0m\u001b[0;34m,\u001b[0m \u001b[0;36m1\u001b[0m\u001b[0;34m)\u001b[0m\u001b[0;34m\u001b[0m\u001b[0;34m\u001b[0m\u001b[0m\n\u001b[0;32m--> 404\u001b[0;31m         \u001b[0mattn_output\u001b[0m \u001b[0;34m=\u001b[0m \u001b[0mF\u001b[0m\u001b[0;34m.\u001b[0m\u001b[0mscaled_dot_product_attention\u001b[0m\u001b[0;34m(\u001b[0m\u001b[0mq\u001b[0m\u001b[0;34m,\u001b[0m \u001b[0mk\u001b[0m\u001b[0;34m,\u001b[0m \u001b[0mv\u001b[0m\u001b[0;34m,\u001b[0m \u001b[0mattention_mask\u001b[0m\u001b[0;34m,\u001b[0m \u001b[0mdropout_p\u001b[0m\u001b[0;34m=\u001b[0m\u001b[0;36m0.0\u001b[0m\u001b[0;34m)\u001b[0m\u001b[0;34m\u001b[0m\u001b[0;34m\u001b[0m\u001b[0m\n\u001b[0m\u001b[1;32m    405\u001b[0m         \u001b[0mattn_output\u001b[0m \u001b[0;34m=\u001b[0m \u001b[0mattn_output\u001b[0m\u001b[0;34m.\u001b[0m\u001b[0mtranspose\u001b[0m\u001b[0;34m(\u001b[0m\u001b[0;36m0\u001b[0m\u001b[0;34m,\u001b[0m \u001b[0;36m1\u001b[0m\u001b[0;34m)\u001b[0m\u001b[0;34m\u001b[0m\u001b[0;34m\u001b[0m\u001b[0m\n\u001b[1;32m    406\u001b[0m         \u001b[0mattn_output\u001b[0m \u001b[0;34m=\u001b[0m \u001b[0mattn_output\u001b[0m\u001b[0;34m.\u001b[0m\u001b[0mreshape\u001b[0m\u001b[0;34m(\u001b[0m\u001b[0mseq_length\u001b[0m\u001b[0;34m,\u001b[0m \u001b[0;34m-\u001b[0m\u001b[0;36m1\u001b[0m\u001b[0;34m)\u001b[0m\u001b[0;34m\u001b[0m\u001b[0;34m\u001b[0m\u001b[0m\n",
            "\u001b[0;31mOutOfMemoryError\u001b[0m: CUDA out of memory. Tried to allocate 12.20 GiB. GPU 0 has a total capacity of 14.75 GiB of which 8.83 GiB is free. Process 145597 has 5.92 GiB memory in use. Of the allocated memory 5.38 GiB is allocated by PyTorch, and 420.33 MiB is reserved by PyTorch but unallocated. If reserved but unallocated memory is large try setting PYTORCH_CUDA_ALLOC_CONF=expandable_segments:True to avoid fragmentation.  See documentation for Memory Management  (https://pytorch.org/docs/stable/notes/cuda.html#environment-variables)"
          ]
        }
      ]
    },
    {
      "cell_type": "markdown",
      "source": [
        "![colab_T4_model_gpu_memory.PNG](data:image/png;base64,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)"
      ],
      "metadata": {
        "id": "U5BJxRuacm-Y"
      }
    },
    {
      "cell_type": "markdown",
      "source": [
        "The above is the resource utilization"
      ],
      "metadata": {
        "id": "mRlSjqrwdC62"
      }
    },
    {
      "cell_type": "code",
      "source": [
        "gpu_summary = torch.cuda.memory_summary(device=0)  # To verify free memory\n",
        "print(gpu_summary)"
      ],
      "metadata": {
        "colab": {
          "base_uri": "https://localhost:8080/"
        },
        "id": "GvKlvKQ6TlKC",
        "outputId": "c7f7d8da-bfb3-4094-bc2a-ed0255d9adce"
      },
      "execution_count": 7,
      "outputs": [
        {
          "output_type": "stream",
          "name": "stdout",
          "text": [
            "|===========================================================================|\n",
            "|                  PyTorch CUDA memory summary, device ID 0                 |\n",
            "|---------------------------------------------------------------------------|\n",
            "|            CUDA OOMs: 1            |        cudaMalloc retries: 1         |\n",
            "|===========================================================================|\n",
            "|        Metric         | Cur Usage  | Peak Usage | Tot Alloc  | Tot Freed  |\n",
            "|---------------------------------------------------------------------------|\n",
            "| Allocated memory      |   4773 MiB |   5513 MiB |   6509 MiB |   1735 MiB |\n",
            "|       from large pool |   4729 MiB |   5470 MiB |   6464 MiB |   1734 MiB |\n",
            "|       from small pool |     43 MiB |     44 MiB |     45 MiB |      1 MiB |\n",
            "|---------------------------------------------------------------------------|\n",
            "| Active memory         |   4773 MiB |   5513 MiB |   6509 MiB |   1735 MiB |\n",
            "|       from large pool |   4729 MiB |   5470 MiB |   6464 MiB |   1734 MiB |\n",
            "|       from small pool |     43 MiB |     44 MiB |     45 MiB |      1 MiB |\n",
            "|---------------------------------------------------------------------------|\n",
            "| Requested memory      |   4770 MiB |   5510 MiB |   6501 MiB |   1731 MiB |\n",
            "|       from large pool |   4726 MiB |   5466 MiB |   6456 MiB |   1729 MiB |\n",
            "|       from small pool |     43 MiB |     44 MiB |     45 MiB |      1 MiB |\n",
            "|---------------------------------------------------------------------------|\n",
            "| GPU reserved memory   |   5934 MiB |   5956 MiB |   5958 MiB |  24576 KiB |\n",
            "|       from large pool |   5878 MiB |   5898 MiB |   5898 MiB |  20480 KiB |\n",
            "|       from small pool |     56 MiB |     58 MiB |     60 MiB |   4096 KiB |\n",
            "|---------------------------------------------------------------------------|\n",
            "| Non-releasable memory | 371225 KiB | 501955 KiB |   1141 MiB |    778 MiB |\n",
            "|       from large pool | 358418 KiB | 489148 KiB |   1101 MiB |    751 MiB |\n",
            "|       from small pool |  12806 KiB |  13830 KiB |     39 MiB |     26 MiB |\n",
            "|---------------------------------------------------------------------------|\n",
            "| Allocations           |     781    |     787    |     871    |      90    |\n",
            "|       from large pool |     283    |     289    |     310    |      27    |\n",
            "|       from small pool |     498    |     507    |     561    |      63    |\n",
            "|---------------------------------------------------------------------------|\n",
            "| Active allocs         |     781    |     787    |     871    |      90    |\n",
            "|       from large pool |     283    |     289    |     310    |      27    |\n",
            "|       from small pool |     498    |     507    |     561    |      63    |\n",
            "|---------------------------------------------------------------------------|\n",
            "| GPU reserved segments |     229    |     231    |     232    |       3    |\n",
            "|       from large pool |     201    |     202    |     202    |       1    |\n",
            "|       from small pool |      28    |      29    |      30    |       2    |\n",
            "|---------------------------------------------------------------------------|\n",
            "| Non-releasable allocs |     219    |     221    |     255    |      36    |\n",
            "|       from large pool |     191    |     193    |     200    |       9    |\n",
            "|       from small pool |      28    |      29    |      55    |      27    |\n",
            "|---------------------------------------------------------------------------|\n",
            "| Oversize allocations  |       0    |       0    |       0    |       0    |\n",
            "|---------------------------------------------------------------------------|\n",
            "| Oversize GPU segments |       0    |       0    |       0    |       0    |\n",
            "|===========================================================================|\n",
            "\n"
          ]
        }
      ]
    },
    {
      "cell_type": "code",
      "source": [
        "def mib_to_gib(mib_value):\n",
        "    return round(mib_value / 1024, 2)\n",
        "\n",
        "print(\"GPU Memory Summary (in GiB):\")\n",
        "lines = gpu_summary.strip().split(\"\\n\")\n",
        "for line in lines:\n",
        "    if \"MiB\" in line:\n",
        "        parts = line.split(\"|\")\n",
        "        converted = [\n",
        "            f\"{mib_to_gib(float(value.split()[0]))} GiB\" if \"MiB\" in value else value\n",
        "            for value in parts\n",
        "        ]\n",
        "        print(\"|\".join(converted))\n",
        "    else:\n",
        "        print(line)"
      ],
      "metadata": {
        "colab": {
          "base_uri": "https://localhost:8080/"
        },
        "id": "c3_35Pf5aA85",
        "outputId": "3347d21e-f781-4151-e660-41c6f272ab6c"
      },
      "execution_count": 8,
      "outputs": [
        {
          "output_type": "stream",
          "name": "stdout",
          "text": [
            "GPU Memory Summary (in GiB):\n",
            "|===========================================================================|\n",
            "|                  PyTorch CUDA memory summary, device ID 0                 |\n",
            "|---------------------------------------------------------------------------|\n",
            "|            CUDA OOMs: 1            |        cudaMalloc retries: 1         |\n",
            "|===========================================================================|\n",
            "|        Metric         | Cur Usage  | Peak Usage | Tot Alloc  | Tot Freed  |\n",
            "|---------------------------------------------------------------------------|\n",
            "| Allocated memory      |4.66 GiB|5.38 GiB|6.36 GiB|1.69 GiB|\n",
            "|       from large pool |4.62 GiB|5.34 GiB|6.31 GiB|1.69 GiB|\n",
            "|       from small pool |0.04 GiB|0.04 GiB|0.04 GiB|0.0 GiB|\n",
            "|---------------------------------------------------------------------------|\n",
            "| Active memory         |4.66 GiB|5.38 GiB|6.36 GiB|1.69 GiB|\n",
            "|       from large pool |4.62 GiB|5.34 GiB|6.31 GiB|1.69 GiB|\n",
            "|       from small pool |0.04 GiB|0.04 GiB|0.04 GiB|0.0 GiB|\n",
            "|---------------------------------------------------------------------------|\n",
            "| Requested memory      |4.66 GiB|5.38 GiB|6.35 GiB|1.69 GiB|\n",
            "|       from large pool |4.62 GiB|5.34 GiB|6.3 GiB|1.69 GiB|\n",
            "|       from small pool |0.04 GiB|0.04 GiB|0.04 GiB|0.0 GiB|\n",
            "|---------------------------------------------------------------------------|\n",
            "| GPU reserved memory   |5.79 GiB|5.82 GiB|5.82 GiB|  24576 KiB |\n",
            "|       from large pool |5.74 GiB|5.76 GiB|5.76 GiB|  20480 KiB |\n",
            "|       from small pool |0.05 GiB|0.06 GiB|0.06 GiB|   4096 KiB |\n",
            "|---------------------------------------------------------------------------|\n",
            "| Non-releasable memory | 371225 KiB | 501955 KiB |1.11 GiB|0.76 GiB|\n",
            "|       from large pool | 358418 KiB | 489148 KiB |1.08 GiB|0.73 GiB|\n",
            "|       from small pool |  12806 KiB |  13830 KiB |0.04 GiB|0.03 GiB|\n",
            "|---------------------------------------------------------------------------|\n",
            "| Allocations           |     781    |     787    |     871    |      90    |\n",
            "|       from large pool |     283    |     289    |     310    |      27    |\n",
            "|       from small pool |     498    |     507    |     561    |      63    |\n",
            "|---------------------------------------------------------------------------|\n",
            "| Active allocs         |     781    |     787    |     871    |      90    |\n",
            "|       from large pool |     283    |     289    |     310    |      27    |\n",
            "|       from small pool |     498    |     507    |     561    |      63    |\n",
            "|---------------------------------------------------------------------------|\n",
            "| GPU reserved segments |     229    |     231    |     232    |       3    |\n",
            "|       from large pool |     201    |     202    |     202    |       1    |\n",
            "|       from small pool |      28    |      29    |      30    |       2    |\n",
            "|---------------------------------------------------------------------------|\n",
            "| Non-releasable allocs |     219    |     221    |     255    |      36    |\n",
            "|       from large pool |     191    |     193    |     200    |       9    |\n",
            "|       from small pool |      28    |      29    |      55    |      27    |\n",
            "|---------------------------------------------------------------------------|\n",
            "| Oversize allocations  |       0    |       0    |       0    |       0    |\n",
            "|---------------------------------------------------------------------------|\n",
            "| Oversize GPU segments |       0    |       0    |       0    |       0    |\n",
            "|===========================================================================|\n"
          ]
        }
      ]
    },
    {
      "cell_type": "code",
      "source": [],
      "metadata": {
        "id": "40CZ7zkAajbt"
      },
      "execution_count": null,
      "outputs": []
    }
  ]
}